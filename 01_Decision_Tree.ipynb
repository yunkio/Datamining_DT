{
 "cells": [
  {
   "cell_type": "markdown",
   "id": "5e17259b-e4e8-4553-8594-aa67d160694f",
   "metadata": {},
   "source": [
    "jupyter notebook 단축키  \n",
    "ctrl+enter: 셀 실행  \n",
    "shift+enter: 셀 실행 및 다음 셀 이동  \n",
    "alt+enter: 셀 실행, 다음 셀 이동, 새로운 셀 생성  \n",
    "a: 상단에 새로운 셀 만들기  \n",
    "b: 하단에 새로운 셀 만들기  \n",
    "dd: 셀 삭제(x: 셀 삭제)  \n",
    "함수 ( ) 안에서 shift+tab: arguments description. shift+tab+tab은 길게 볼 수 있도록"
   ]
  },
  {
   "cell_type": "code",
   "execution_count": null,
   "id": "da2e4ff7-8d27-45e2-a0bb-4e3ddf41be75",
   "metadata": {},
   "outputs": [],
   "source": [
    "!pip install IPython\n",
    "from IPython.display import Image"
   ]
  },
  {
   "cell_type": "code",
   "execution_count": null,
   "id": "38f56a62-5c01-47e4-b3b8-d0d5132e4a9a",
   "metadata": {
    "tags": []
   },
   "outputs": [],
   "source": [
    "## 필요 Library 불러오기\n",
    "import numpy as np\n",
    "import pandas as pd\n",
    "import matplotlib.pyplot as plt\n",
    "from sklearn.tree import DecisionTreeClassifier, plot_tree\n",
    "from sklearn.model_selection import train_test_split, GridSearchCV\n",
    "from sklearn.metrics import accuracy_score, confusion_matrix\n",
    "from sklearn.datasets import make_classification\n",
    "from sklearn.preprocessing import StandardScaler\n",
    "from matplotlib.colors import ListedColormap"
   ]
  },
  {
   "cell_type": "code",
   "execution_count": null,
   "id": "0a9fe925-0221-4dc8-8fef-12c99579e90d",
   "metadata": {},
   "outputs": [],
   "source": [
    "!git clone https://github.com/yunkio/Datamining.git #코랩 사용"
   ]
  },
  {
   "cell_type": "code",
   "execution_count": null,
   "id": "4e342402-d531-4384-b8ab-969971cb71fd",
   "metadata": {
    "tags": []
   },
   "outputs": [],
   "source": [
    "Image('/content/Datamining_DT/image/image1.png')"
   ]
  },
  {
   "cell_type": "markdown",
   "id": "fe44037d-7ed1-41a7-8524-6d9d4e0c0cbb",
   "metadata": {},
   "source": [
    "# 예제 (1) - 인공 데이터셋"
   ]
  },
  {
   "cell_type": "markdown",
   "id": "545419e3-607b-4779-a95a-b0ea336f7c80",
   "metadata": {},
   "source": [
    "---"
   ]
  },
  {
   "cell_type": "markdown",
   "id": "d2cfed07-1aa7-4475-ad57-10b2b780d790",
   "metadata": {
    "tags": []
   },
   "source": [
    "## 데이터 셋 준비"
   ]
  },
  {
   "cell_type": "markdown",
   "id": "a70de431-c439-46b7-b7b7-a943585f584c",
   "metadata": {},
   "source": [
    "### 데이터 만들기"
   ]
  },
  {
   "cell_type": "code",
   "execution_count": null,
   "id": "d143bebe-b15f-40ae-9389-9c91bbecbda0",
   "metadata": {
    "tags": []
   },
   "outputs": [],
   "source": [
    "# 인공 데이터셋 만들기\n",
    "X, y = make_classification(n_samples=1000, n_features=2, n_redundant=0, n_informative=2,\n",
    "                           n_clusters_per_class=1, n_classes=3, flip_y=0.05,\n",
    "                           class_sep=1.5, random_state=42)"
   ]
  },
  {
   "cell_type": "markdown",
   "id": "a65ad241-2b97-4121-a77b-83fa2cb916b7",
   "metadata": {},
   "source": [
    "### 데이터 확인"
   ]
  },
  {
   "cell_type": "code",
   "execution_count": null,
   "id": "669cf4eb-a2bc-43bf-944f-2d50093e91dc",
   "metadata": {
    "tags": []
   },
   "outputs": [],
   "source": [
    "# Pandas 데이터 프레임으로 변환\n",
    "df = pd.DataFrame(X, columns=['Feature 1', 'Feature 2'])\n",
    "df['Target'] = y\n",
    "df"
   ]
  },
  {
   "cell_type": "code",
   "execution_count": null,
   "id": "f4f343d8-06f2-48c1-a095-49b1030eaf4e",
   "metadata": {
    "tags": []
   },
   "outputs": [],
   "source": [
    "# 색 정의\n",
    "cmap_light = ListedColormap(['#FFAAAA', '#AAFFAA', '#AAAAFF'])\n",
    "cmap_bold = ListedColormap(['#FF0000', '#00FF00', '#0000FF'])\n",
    "\n",
    "# 데이터 Plot 그리기\n",
    "plt.scatter(X[:, 0], X[:, 1], c=y, cmap=cmap_bold, edgecolor='k', s=20)\n",
    "plt.show()"
   ]
  },
  {
   "cell_type": "markdown",
   "id": "3a31517c-fe67-4638-b550-04f5dc07e238",
   "metadata": {},
   "source": [
    "### 데이터 나누기 (Train - Test split)"
   ]
  },
  {
   "cell_type": "code",
   "execution_count": null,
   "id": "4a6a43d5-5416-42f2-9c2f-90429351f6e8",
   "metadata": {
    "tags": []
   },
   "outputs": [],
   "source": [
    "# 데이터셋을 훈련 데이터와 시험 데이터로 나누기\n",
    "X_train, X_test, y_train, y_test = train_test_split(X, y, test_size=0.3, random_state=42)"
   ]
  },
  {
   "cell_type": "markdown",
   "id": "718a1d59-b805-473e-ac35-fdd7b0dd38ba",
   "metadata": {},
   "source": [
    "## 모델 훈련하기"
   ]
  },
  {
   "cell_type": "markdown",
   "id": "dc2d4ea8-90e1-4492-8cc4-5fa5a8a58720",
   "metadata": {},
   "source": [
    "### Decision Tree 정의"
   ]
  },
  {
   "cell_type": "code",
   "execution_count": null,
   "id": "02b48763-6a31-45ff-8f71-05d467a8cd2f",
   "metadata": {
    "tags": []
   },
   "outputs": [],
   "source": [
    "# 의사결정나무 분류기를 만들고 훈련시키기\n",
    "tree = DecisionTreeClassifier(random_state=42)\n",
    "tree.fit(X_train, y_train) # 훈련"
   ]
  },
  {
   "cell_type": "markdown",
   "id": "d183669c-45ce-4dfa-b57a-e3eb44e0853e",
   "metadata": {},
   "source": [
    "### 예측 및 Test Data를 활용한 평가"
   ]
  },
  {
   "cell_type": "code",
   "execution_count": null,
   "id": "9f107560-8b36-4c20-8ccf-de01498b0d75",
   "metadata": {
    "tags": []
   },
   "outputs": [],
   "source": [
    "# Predict and evaluate the model\n",
    "y_pred = tree.predict(X_test)\n",
    "print(\"Accuracy:\", accuracy_score(y_test, y_pred))\n",
    "print(\"Confusion Matrix :\\n\", confusion_matrix(y_test, y_pred))"
   ]
  },
  {
   "cell_type": "markdown",
   "id": "9a39334c-054c-4c7e-a832-b69488279ad0",
   "metadata": {
    "tags": []
   },
   "source": [
    "### Hyper Parameter Tuning"
   ]
  },
  {
   "cell_type": "markdown",
   "id": "d62a2e72-2b97-45df-837d-e85a10f3edae",
   "metadata": {},
   "source": [
    "* max_depth : Decision Tree의 최종 깊이  \n",
    "* min_samples_split : 마지막 노드의 최소 샘플 갯수"
   ]
  },
  {
   "cell_type": "code",
   "execution_count": null,
   "id": "181586fa-11b3-4ddc-a5c8-c321e499be9f",
   "metadata": {
    "tags": []
   },
   "outputs": [],
   "source": [
    "# 하이퍼 파라미터 튜닝\n",
    "param_grid = {'max_depth': [None, 3, 5, 10], 'min_samples_split': [2, 5, 10]}\n",
    "grid_search = GridSearchCV(tree, param_grid, cv=5)\n",
    "grid_search.fit(X_train, y_train)\n",
    "print(\"Best parameters:\", grid_search.best_params_)\n",
    "print(\"Best cross-validation score: {:.2f}\".format(grid_search.best_score_))"
   ]
  },
  {
   "cell_type": "markdown",
   "id": "d0823495-2919-410b-ac92-0c125a2d7139",
   "metadata": {},
   "source": [
    "### Tree 시각화"
   ]
  },
  {
   "cell_type": "code",
   "execution_count": null,
   "id": "cdd5622a-58ca-4060-b645-3113c62639d6",
   "metadata": {
    "tags": []
   },
   "outputs": [],
   "source": [
    "# Decision Tree 시각화\n",
    "plt.figure(figsize=(20,10))\n",
    "plot_tree(grid_search.best_estimator_, filled=True, feature_names=['Feature 1', 'Feature 2'], class_names=['Class 0', 'Class 1', 'Class 2'])\n",
    "plt.show()"
   ]
  },
  {
   "cell_type": "markdown",
   "id": "06817544-53b3-42b4-9294-fc353dd8c9c5",
   "metadata": {
    "tags": []
   },
   "source": [
    "### Decision Boundary 시각화"
   ]
  },
  {
   "cell_type": "code",
   "execution_count": null,
   "id": "8f34bbc7-dd5d-4456-9955-998af466b386",
   "metadata": {
    "tags": []
   },
   "outputs": [],
   "source": [
    "# Decision Boundary를 만들기 위한 영역 만들기\n",
    "x_min, x_max = X[:, 0].min() - 1, X[:, 0].max() + 1\n",
    "y_min, y_max = X[:, 1].min() - 1, X[:, 1].max() + 1\n",
    "xx, yy = np.meshgrid(np.arange(x_min, x_max, 0.01),\n",
    "                     np.arange(y_min, y_max, 0.01))"
   ]
  },
  {
   "cell_type": "code",
   "execution_count": null,
   "id": "6f0c13b3-d1a0-4233-bd1c-b8f9a0f33fbb",
   "metadata": {
    "tags": []
   },
   "outputs": [],
   "source": [
    "# Decision Boundary 생성하기\n",
    "Z = grid_search.best_estimator_.predict(np.c_[xx.ravel(), yy.ravel()])\n",
    "Z = Z.reshape(xx.shape)"
   ]
  },
  {
   "cell_type": "code",
   "execution_count": null,
   "id": "61c02c9b-a150-4f83-9227-f582ea6ef9f0",
   "metadata": {
    "tags": []
   },
   "outputs": [],
   "source": [
    "# Plot 그리기\n",
    "# Plotting\n",
    "plt.figure()\n",
    "plt.pcolormesh(xx, yy, Z, cmap=cmap_light)\n",
    "plt.scatter(X[:, 0], X[:, 1], c=y, cmap=cmap_bold, edgecolor='k', s=20)\n",
    "plt.xlim(xx.min(), xx.max())\n",
    "plt.ylim(yy.min(), yy.max())\n",
    "plt.title(\"2D Decision Boundary plotted with training points\")\n",
    "plt.xlabel('Feature 1')\n",
    "plt.ylabel('Feature 2')\n",
    "plt.show()"
   ]
  },
  {
   "cell_type": "markdown",
   "id": "b95c678d-1c58-4232-88fe-581cfc102259",
   "metadata": {
    "tags": []
   },
   "source": [
    "---"
   ]
  },
  {
   "cell_type": "markdown",
   "id": "5ad01805-9739-423e-b0c5-35971f589df7",
   "metadata": {},
   "source": [
    "# 예제 (2) - 실제 데이터셋"
   ]
  },
  {
   "cell_type": "markdown",
   "id": "53ede807-45c9-427f-b13c-dabcb1d96b5e",
   "metadata": {},
   "source": [
    "## 데이터 셋(2) 준비"
   ]
  },
  {
   "cell_type": "code",
   "execution_count": null,
   "id": "a803c48e-8f18-45be-a4a1-415b514d2a08",
   "metadata": {
    "tags": []
   },
   "outputs": [],
   "source": [
    "# 더 분류가 어려운 데이터 생성\n",
    "X, y = make_classification(n_samples=300, n_features=2, n_redundant=0, n_informative=2,\n",
    "                           n_clusters_per_class=1, n_classes=3, flip_y=0,\n",
    "                           class_sep=0.7, random_state=45)"
   ]
  },
  {
   "cell_type": "code",
   "execution_count": null,
   "id": "65f8202b-6ba5-4e67-847a-26cb8e6273f1",
   "metadata": {
    "tags": []
   },
   "outputs": [],
   "source": [
    "df = pd.DataFrame(X, columns=['Feature 1', 'Feature 2'])\n",
    "df['Target'] = y\n",
    "\n",
    "plt.scatter(X[:, 0], X[:, 1], c=y, cmap=cmap_bold, edgecolor='k', s=20)\n",
    "plt.show()"
   ]
  },
  {
   "cell_type": "code",
   "execution_count": null,
   "id": "7459efa7-f3c8-48f4-9eef-92ff33f7c98a",
   "metadata": {
    "tags": []
   },
   "outputs": [],
   "source": [
    "# 데이터셋 나누기\n",
    "X_train, X_test, y_train, y_test = train_test_split(X, y, test_size=0.3, random_state=42)"
   ]
  },
  {
   "cell_type": "markdown",
   "id": "9245ff33-815f-45c9-9f95-04888d2e488e",
   "metadata": {},
   "source": [
    "## 모델 학습 및 시각화"
   ]
  },
  {
   "cell_type": "code",
   "execution_count": null,
   "id": "121b724b-227f-4ae9-9488-e5cbc3700152",
   "metadata": {
    "tags": []
   },
   "outputs": [],
   "source": [
    "# 하이퍼 파라미터 세팅\n",
    "depths = [2, 5, None]\n",
    "min_samples_splits = [20, 5, 2]"
   ]
  },
  {
   "cell_type": "code",
   "execution_count": null,
   "id": "083ada22-583b-4fd1-8385-61855edba2cc",
   "metadata": {
    "tags": []
   },
   "outputs": [],
   "source": [
    "fig, axes = plt.subplots(len(min_samples_splits), len(depths) * 2, figsize=(20, 15), gridspec_kw={'width_ratios': [1, 3] * len(depths)})\n",
    "\n",
    "cmap_light = ListedColormap(['#FFAAAA', '#AAFFAA', '#AAAAFF'])\n",
    "cmap_bold = ListedColormap(['#FF0000', '#00FF00', '#0000FF'])\n",
    "\n",
    "for i, min_samples_split in enumerate(min_samples_splits):\n",
    "    for j, max_depth in enumerate(depths):\n",
    "        # Decision Tree 훈련\n",
    "        dt = DecisionTreeClassifier(max_depth=max_depth, min_samples_split=min_samples_split, random_state=42)\n",
    "        dt.fit(X_train, y_train)\n",
    "        \n",
    "        # Decision Boundary를 그리기 위한 mesh grid 생성\n",
    "        x_min, x_max = X[:, 0].min() - 1, X[:, 0].max() + 1\n",
    "        y_min, y_max = X[:, 1].min() - 1, X[:, 1].max() + 1\n",
    "        xx, yy = np.meshgrid(np.arange(x_min, x_max, 0.01),\n",
    "                             np.arange(y_min, y_max, 0.01))\n",
    "        \n",
    "        # Decision Boundary 결정\n",
    "        Z = dt.predict(np.c_[xx.ravel(), yy.ravel()])\n",
    "        Z = Z.reshape(xx.shape)\n",
    "        \n",
    "        # Decision Boundary Plot 그리기\n",
    "        ax_boundary = axes[i][j*2 + 1]  # Even indices for boundaries\n",
    "        ax_boundary.pcolormesh(xx, yy, Z, cmap=cmap_light)\n",
    "        ax_boundary.scatter(X[:, 0], X[:, 1], c=y, cmap=cmap_bold, edgecolor='k', s=20)\n",
    "        ax_boundary.set_xlim(xx.min(), xx.max())\n",
    "        ax_boundary.set_ylim(yy.min(), yy.max())\n",
    "        ax_boundary.set_title(f\"Boundary: Depth={max_depth}, Split={min_samples_split}\\nAccuracy: {dt.score(X_test, y_test):.2f}\")\n",
    "\n",
    "        # Tree Plot 그리기\n",
    "        ax_tree = axes[i][j*2]  # Odd indices for trees\n",
    "        plot_tree(dt, filled=True, feature_names=['Feature 1', 'Feature 2'], class_names=['Class 0', 'Class 1', 'Class 2'], ax=ax_tree)\n",
    "\n",
    "plt.tight_layout()\n",
    "plt.show()"
   ]
  },
  {
   "cell_type": "markdown",
   "id": "e58f1ee4-6143-472d-bf38-7565802bc1cb",
   "metadata": {},
   "source": [
    "# 끝"
   ]
  },
  {
   "cell_type": "code",
   "execution_count": null,
   "id": "601a8033-e791-4005-807d-10ef1af9c19c",
   "metadata": {},
   "outputs": [],
   "source": []
  }
 ],
 "metadata": {
  "kernelspec": {
   "display_name": "Python 3 (ipykernel)",
   "language": "python",
   "name": "python3"
  },
  "language_info": {
   "codemirror_mode": {
    "name": "ipython",
    "version": 3
   },
   "file_extension": ".py",
   "mimetype": "text/x-python",
   "name": "python",
   "nbconvert_exporter": "python",
   "pygments_lexer": "ipython3",
   "version": "3.9.16"
  }
 },
 "nbformat": 4,
 "nbformat_minor": 5
}
